{
 "cells": [
  {
   "cell_type": "markdown",
   "metadata": {},
   "source": [
    "## Overall Analysis\n",
    "<br>\n",
    "\n",
    "- Of the 576 players, the majority identify as male (84.03%). Men tend to spend close to the overall average, 3.02 vs 3.05 per transaction. Although men account for the highest volume of purchases, women and non-binary/those who did not disclose gender are the higher value spenders. Based on this information, the marketing and design team would do well to try and expand upon the female and non-binary demographics. \n",
    "<br>\n",
    "\n",
    "- The peak age demographic falls between the ages of 15-24, which accounts for almost 65% of all players. \n",
    "<br>\n",
    "\n",
    "- With 780 total transactions spread among 576 unique individuals, the profitability of the game depends on the repeat business of players."
   ]
  },
  {
   "cell_type": "code",
   "execution_count": 1,
   "metadata": {},
   "outputs": [
    {
     "data": {
      "text/html": [
       "<div>\n",
       "<style scoped>\n",
       "    .dataframe tbody tr th:only-of-type {\n",
       "        vertical-align: middle;\n",
       "    }\n",
       "\n",
       "    .dataframe tbody tr th {\n",
       "        vertical-align: top;\n",
       "    }\n",
       "\n",
       "    .dataframe thead th {\n",
       "        text-align: right;\n",
       "    }\n",
       "</style>\n",
       "<table border=\"1\" class=\"dataframe\">\n",
       "  <thead>\n",
       "    <tr style=\"text-align: right;\">\n",
       "      <th></th>\n",
       "      <th>Purchase ID</th>\n",
       "      <th>SN</th>\n",
       "      <th>Age</th>\n",
       "      <th>Gender</th>\n",
       "      <th>Item ID</th>\n",
       "      <th>Item Name</th>\n",
       "      <th>Price</th>\n",
       "    </tr>\n",
       "  </thead>\n",
       "  <tbody>\n",
       "    <tr>\n",
       "      <th>0</th>\n",
       "      <td>0</td>\n",
       "      <td>Lisim78</td>\n",
       "      <td>20</td>\n",
       "      <td>Male</td>\n",
       "      <td>108</td>\n",
       "      <td>Extraction, Quickblade Of Trembling Hands</td>\n",
       "      <td>3.53</td>\n",
       "    </tr>\n",
       "    <tr>\n",
       "      <th>1</th>\n",
       "      <td>1</td>\n",
       "      <td>Lisovynya38</td>\n",
       "      <td>40</td>\n",
       "      <td>Male</td>\n",
       "      <td>143</td>\n",
       "      <td>Frenzied Scimitar</td>\n",
       "      <td>1.56</td>\n",
       "    </tr>\n",
       "    <tr>\n",
       "      <th>2</th>\n",
       "      <td>2</td>\n",
       "      <td>Ithergue48</td>\n",
       "      <td>24</td>\n",
       "      <td>Male</td>\n",
       "      <td>92</td>\n",
       "      <td>Final Critic</td>\n",
       "      <td>4.88</td>\n",
       "    </tr>\n",
       "    <tr>\n",
       "      <th>3</th>\n",
       "      <td>3</td>\n",
       "      <td>Chamassasya86</td>\n",
       "      <td>24</td>\n",
       "      <td>Male</td>\n",
       "      <td>100</td>\n",
       "      <td>Blindscythe</td>\n",
       "      <td>3.27</td>\n",
       "    </tr>\n",
       "    <tr>\n",
       "      <th>4</th>\n",
       "      <td>4</td>\n",
       "      <td>Iskosia90</td>\n",
       "      <td>23</td>\n",
       "      <td>Male</td>\n",
       "      <td>131</td>\n",
       "      <td>Fury</td>\n",
       "      <td>1.44</td>\n",
       "    </tr>\n",
       "  </tbody>\n",
       "</table>\n",
       "</div>"
      ],
      "text/plain": [
       "   Purchase ID             SN  Age Gender  Item ID  \\\n",
       "0            0        Lisim78   20   Male      108   \n",
       "1            1    Lisovynya38   40   Male      143   \n",
       "2            2     Ithergue48   24   Male       92   \n",
       "3            3  Chamassasya86   24   Male      100   \n",
       "4            4      Iskosia90   23   Male      131   \n",
       "\n",
       "                                   Item Name  Price  \n",
       "0  Extraction, Quickblade Of Trembling Hands   3.53  \n",
       "1                          Frenzied Scimitar   1.56  \n",
       "2                               Final Critic   4.88  \n",
       "3                                Blindscythe   3.27  \n",
       "4                                       Fury   1.44  "
      ]
     },
     "execution_count": 1,
     "metadata": {},
     "output_type": "execute_result"
    }
   ],
   "source": [
    "# Dependencies and Setup\n",
    "import pandas as pd\n",
    "\n",
    "# File to Load\n",
    "file = \"Resources/purchase_data.csv\"\n",
    "\n",
    "# Read purchasing file and store into Pandas data frame\n",
    "raw_df = pd.read_csv(file)\n",
    "raw_df.head()"
   ]
  },
  {
   "cell_type": "markdown",
   "metadata": {},
   "source": [
    "## Player Count"
   ]
  },
  {
   "cell_type": "markdown",
   "metadata": {},
   "source": [
    "* Display the total number of players\n"
   ]
  },
  {
   "cell_type": "code",
   "execution_count": 2,
   "metadata": {},
   "outputs": [
    {
     "name": "stdout",
     "output_type": "stream",
     "text": [
      "Total Player Transactions: 780\n"
     ]
    }
   ],
   "source": [
    "# calculate total number of players\n",
    "user_df = raw_df.loc[:, [\"SN\", \"Age\", \"Gender\"]]\n",
    "\n",
    "user_count = user_df.count()[0]\n",
    "print(f'Total Player Transactions: {user_count}')\n"
   ]
  },
  {
   "cell_type": "code",
   "execution_count": 3,
   "metadata": {},
   "outputs": [
    {
     "name": "stdout",
     "output_type": "stream",
     "text": [
      "Number of Unique Players: 576\n"
     ]
    }
   ],
   "source": [
    "# calculate total number of unique players\n",
    "player_count = user_df.drop_duplicates()\n",
    "\n",
    "unique_players = player_count.count()[0]\n",
    "\n",
    "print(f'Number of Unique Players: {unique_players}')"
   ]
  },
  {
   "cell_type": "markdown",
   "metadata": {},
   "source": [
    "## Purchasing Analysis (Total)"
   ]
  },
  {
   "cell_type": "markdown",
   "metadata": {},
   "source": [
    "* Run basic calculations to obtain number of unique items, average price, etc.\n",
    "\n",
    "\n",
    "* Create a summary data frame to hold the results\n",
    "\n",
    "\n",
    "* Optional: give the displayed data cleaner formatting\n",
    "\n",
    "\n",
    "* Display the summary data frame\n"
   ]
  },
  {
   "cell_type": "code",
   "execution_count": 4,
   "metadata": {
    "scrolled": true
   },
   "outputs": [
    {
     "data": {
      "text/html": [
       "<div>\n",
       "<style scoped>\n",
       "    .dataframe tbody tr th:only-of-type {\n",
       "        vertical-align: middle;\n",
       "    }\n",
       "\n",
       "    .dataframe tbody tr th {\n",
       "        vertical-align: top;\n",
       "    }\n",
       "\n",
       "    .dataframe thead th {\n",
       "        text-align: right;\n",
       "    }\n",
       "</style>\n",
       "<table border=\"1\" class=\"dataframe\">\n",
       "  <thead>\n",
       "    <tr style=\"text-align: right;\">\n",
       "      <th></th>\n",
       "      <th>Number of Unique Items</th>\n",
       "      <th>Average Purchase Price</th>\n",
       "      <th>Number of Purchases</th>\n",
       "      <th>Total Revenue</th>\n",
       "    </tr>\n",
       "  </thead>\n",
       "  <tbody>\n",
       "    <tr>\n",
       "      <th>0</th>\n",
       "      <td>179</td>\n",
       "      <td>$3.05</td>\n",
       "      <td>780</td>\n",
       "      <td>$2379.77</td>\n",
       "    </tr>\n",
       "  </tbody>\n",
       "</table>\n",
       "</div>"
      ],
      "text/plain": [
       "   Number of Unique Items Average Purchase Price  Number of Purchases  \\\n",
       "0                     179                  $3.05                  780   \n",
       "\n",
       "  Total Revenue  \n",
       "0      $2379.77  "
      ]
     },
     "execution_count": 4,
     "metadata": {},
     "output_type": "execute_result"
    }
   ],
   "source": [
    "# find unique number of items\n",
    "unique_items = raw_df[\"Item ID\"].nunique()\n",
    "\n",
    "# calculate total number of purchases\n",
    "total_purch = raw_df[\"Purchase ID\"].nunique()\n",
    "\n",
    "# calculate total revenue\n",
    "total_rev = raw_df[\"Price\"].sum()\n",
    "\n",
    "# calculate avergae price\n",
    "avg_price = raw_df[\"Price\"].mean()\n",
    "\n",
    "# display information data frame\n",
    "summary_df = pd.DataFrame({\n",
    "    \"Number of Unique Items\": [unique_items],\n",
    "    \"Average Purchase Price\": [avg_price],\n",
    "    \"Number of Purchases\": [total_purch],\n",
    "    \"Total Revenue\": [total_rev]\n",
    "})\n",
    "\n",
    "# map to format\n",
    "summary_df[\"Average Purchase Price\"] = summary_df[\"Average Purchase Price\"].map(\"${:.2f}\".format)\n",
    "summary_df[\"Total Revenue\"] = summary_df[\"Total Revenue\"].map(\"${:.2f}\".format)\n",
    "\n",
    "summary_df\n"
   ]
  },
  {
   "cell_type": "markdown",
   "metadata": {},
   "source": [
    "## Gender Demographics"
   ]
  },
  {
   "cell_type": "markdown",
   "metadata": {},
   "source": [
    "* Percentage and Count of Male Players\n",
    "\n",
    "\n",
    "* Percentage and Count of Female Players\n",
    "\n",
    "\n",
    "* Percentage and Count of Other / Non-Disclosed\n",
    "\n",
    "\n"
   ]
  },
  {
   "cell_type": "code",
   "execution_count": 5,
   "metadata": {},
   "outputs": [
    {
     "data": {
      "text/html": [
       "<div>\n",
       "<style scoped>\n",
       "    .dataframe tbody tr th:only-of-type {\n",
       "        vertical-align: middle;\n",
       "    }\n",
       "\n",
       "    .dataframe tbody tr th {\n",
       "        vertical-align: top;\n",
       "    }\n",
       "\n",
       "    .dataframe thead th {\n",
       "        text-align: right;\n",
       "    }\n",
       "</style>\n",
       "<table border=\"1\" class=\"dataframe\">\n",
       "  <thead>\n",
       "    <tr style=\"text-align: right;\">\n",
       "      <th></th>\n",
       "      <th>Number of Players</th>\n",
       "      <th>Percentage of Players</th>\n",
       "    </tr>\n",
       "  </thead>\n",
       "  <tbody>\n",
       "    <tr>\n",
       "      <th>Male</th>\n",
       "      <td>484</td>\n",
       "      <td>84.03%</td>\n",
       "    </tr>\n",
       "    <tr>\n",
       "      <th>Female</th>\n",
       "      <td>81</td>\n",
       "      <td>14.06%</td>\n",
       "    </tr>\n",
       "    <tr>\n",
       "      <th>Other / Non-Disclosed</th>\n",
       "      <td>11</td>\n",
       "      <td>1.91%</td>\n",
       "    </tr>\n",
       "  </tbody>\n",
       "</table>\n",
       "</div>"
      ],
      "text/plain": [
       "                       Number of Players Percentage of Players\n",
       "Male                                 484                84.03%\n",
       "Female                                81                14.06%\n",
       "Other / Non-Disclosed                 11                 1.91%"
      ]
     },
     "execution_count": 5,
     "metadata": {},
     "output_type": "execute_result"
    }
   ],
   "source": [
    "# calculate unique count and percent of each gender\n",
    "gender_totals = player_count[\"Gender\"].value_counts()\n",
    "gender_percent = gender_totals/unique_players*100\n",
    "\n",
    "# create df\n",
    "gender_demo_df = pd.DataFrame({\n",
    "    \"Number of Players\": gender_totals,\n",
    "    \"Percentage of Players\": gender_percent\n",
    "})\n",
    "\n",
    "# format results\n",
    "gender_demo_df[\"Percentage of Players\"] = gender_demo_df[\"Percentage of Players\"].map(\"{:.2f}%\".format)\n",
    "\n",
    "gender_demo_df\n"
   ]
  },
  {
   "cell_type": "markdown",
   "metadata": {},
   "source": [
    "\n",
    "## Purchasing Analysis (Gender)"
   ]
  },
  {
   "cell_type": "markdown",
   "metadata": {},
   "source": [
    "* Run basic calculations to obtain purchase count, avg. purchase price, avg. purchase total per person etc. by gender\n",
    "\n",
    "\n",
    "\n",
    "\n",
    "* Create a summary data frame to hold the results\n",
    "\n",
    "\n",
    "* Optional: give the displayed data cleaner formatting\n",
    "\n",
    "\n",
    "* Display the summary data frame"
   ]
  },
  {
   "cell_type": "code",
   "execution_count": 6,
   "metadata": {},
   "outputs": [
    {
     "data": {
      "text/html": [
       "<div>\n",
       "<style scoped>\n",
       "    .dataframe tbody tr th:only-of-type {\n",
       "        vertical-align: middle;\n",
       "    }\n",
       "\n",
       "    .dataframe tbody tr th {\n",
       "        vertical-align: top;\n",
       "    }\n",
       "\n",
       "    .dataframe thead th {\n",
       "        text-align: right;\n",
       "    }\n",
       "</style>\n",
       "<table border=\"1\" class=\"dataframe\">\n",
       "  <thead>\n",
       "    <tr style=\"text-align: right;\">\n",
       "      <th></th>\n",
       "      <th>Purchase Count</th>\n",
       "      <th>Avg Purchase Price / Transaction</th>\n",
       "      <th>Total Purchase Value</th>\n",
       "      <th>Avg Total Purchase / Person</th>\n",
       "    </tr>\n",
       "    <tr>\n",
       "      <th>Gender</th>\n",
       "      <th></th>\n",
       "      <th></th>\n",
       "      <th></th>\n",
       "      <th></th>\n",
       "    </tr>\n",
       "  </thead>\n",
       "  <tbody>\n",
       "    <tr>\n",
       "      <th>Female</th>\n",
       "      <td>113</td>\n",
       "      <td>$3.20</td>\n",
       "      <td>$361.94</td>\n",
       "      <td>$4.47</td>\n",
       "    </tr>\n",
       "    <tr>\n",
       "      <th>Male</th>\n",
       "      <td>652</td>\n",
       "      <td>$3.02</td>\n",
       "      <td>$1,967.64</td>\n",
       "      <td>$4.07</td>\n",
       "    </tr>\n",
       "    <tr>\n",
       "      <th>Other / Non-Disclosed</th>\n",
       "      <td>15</td>\n",
       "      <td>$3.35</td>\n",
       "      <td>$50.19</td>\n",
       "      <td>$4.56</td>\n",
       "    </tr>\n",
       "  </tbody>\n",
       "</table>\n",
       "</div>"
      ],
      "text/plain": [
       "                       Purchase Count Avg Purchase Price / Transaction  \\\n",
       "Gender                                                                   \n",
       "Female                            113                            $3.20   \n",
       "Male                              652                            $3.02   \n",
       "Other / Non-Disclosed              15                            $3.35   \n",
       "\n",
       "                      Total Purchase Value Avg Total Purchase / Person  \n",
       "Gender                                                                  \n",
       "Female                             $361.94                       $4.47  \n",
       "Male                             $1,967.64                       $4.07  \n",
       "Other / Non-Disclosed               $50.19                       $4.56  "
      ]
     },
     "execution_count": 6,
     "metadata": {},
     "output_type": "execute_result"
    }
   ],
   "source": [
    "# use groupby to sort data into fields by gender and run calcluations \n",
    "gender_group = raw_df.groupby([\"Gender\"]).count()[\"Purchase ID\"]\n",
    "gender_avg = raw_df.groupby([\"Gender\"]).mean()[\"Price\"]\n",
    "gender_total = raw_df.groupby([\"Gender\"]).sum()[\"Price\"]\n",
    "avg_by_user = gender_total / gender_demo_df[\"Number of Players\"]\n",
    "\n",
    "# create df\n",
    "gender_data = pd.DataFrame({\n",
    "    \"Purchase Count\": gender_group,\n",
    "    \"Avg Purchase Price / Transaction\": gender_avg, \n",
    "    \"Total Purchase Value\": gender_total,\n",
    "    \"Avg Total Purchase / Person\": avg_by_user\n",
    "})\n",
    "\n",
    "# format results\n",
    "gender_data[\"Avg Purchase Price / Transaction\"] = gender_data[\"Avg Purchase Price / Transaction\"].map(\"${:.2f}\".format)\n",
    "gender_data[\"Total Purchase Value\"] = gender_data[\"Total Purchase Value\"].map(\"${:,.2f}\".format)\n",
    "gender_data[\"Avg Total Purchase / Person\"] = gender_data[\"Avg Total Purchase / Person\"].map(\"${:.2f}\".format)\n",
    "\n",
    "gender_data\n"
   ]
  },
  {
   "cell_type": "markdown",
   "metadata": {},
   "source": [
    "## Age Demographics"
   ]
  },
  {
   "cell_type": "markdown",
   "metadata": {},
   "source": [
    "* Establish bins for ages\n",
    "\n",
    "\n",
    "* Categorize the existing players using the age bins. Hint: use pd.cut()\n",
    "\n",
    "\n",
    "* Calculate the numbers and percentages by age group\n",
    "\n",
    "\n",
    "* Create a summary data frame to hold the results\n",
    "\n",
    "\n",
    "* Optional: round the percentage column to two decimal points\n",
    "\n",
    "\n",
    "* Display Age Demographics Table\n"
   ]
  },
  {
   "cell_type": "code",
   "execution_count": 8,
   "metadata": {
    "scrolled": true
   },
   "outputs": [
    {
     "name": "stderr",
     "output_type": "stream",
     "text": [
      "<ipython-input-8-d05a7655b913>:6: SettingWithCopyWarning: \n",
      "A value is trying to be set on a copy of a slice from a DataFrame.\n",
      "Try using .loc[row_indexer,col_indexer] = value instead\n",
      "\n",
      "See the caveats in the documentation: https://pandas.pydata.org/pandas-docs/stable/user_guide/indexing.html#returning-a-view-versus-a-copy\n",
      "  player_count[\"Age Ranges\"] = pd.cut(player_count[\"Age\"], age_bins, labels=age_labels)\n"
     ]
    }
   ],
   "source": [
    "# set age bins\n",
    "age_bins = [0, 9.9, 14.9, 19.9, 24.9, 29.9, 34.9, 39.9, 9999]\n",
    "age_labels = [\"<10\", \"10-14\", \"15-19\", \"20-24\", \"25-29\", \"30-34\", \"35-39\", \"40+\"]\n",
    "\n",
    "# slice data into bins and add Age Range series to the data frame\n",
    "player_count[\"Age Ranges\"] = pd.cut(player_count[\"Age\"], age_bins, labels=age_labels)"
   ]
  },
  {
   "cell_type": "code",
   "execution_count": null,
   "metadata": {},
   "outputs": [],
   "source": [
    "# run calculations\n",
    "age_totals = player_count[\"Age Ranges\"].value_counts()\n",
    "age_percents = (age_totals / unique_players)*100\n",
    "\n",
    "# create df\n",
    "age_demo = pd.DataFrame({\"Total Count\": age_totals, \"Percentage of Players\": age_percents})\n",
    "\n",
    "# format results\n",
    "age_demo[\"Percentage of Players\"] = age_demo[\"Percentage of Players\"].map(\"{:.2f}%\".format)\n",
    "\n",
    "# display sorted by index\n",
    "age_demo.sort_index()"
   ]
  },
  {
   "cell_type": "markdown",
   "metadata": {},
   "source": [
    "## Purchasing Analysis (Age)"
   ]
  },
  {
   "cell_type": "markdown",
   "metadata": {},
   "source": [
    "* Bin the purchase_data data frame by age\n",
    "\n",
    "\n",
    "* Run basic calculations to obtain purchase count, avg. purchase price, avg. purchase total per person etc. in the table below\n",
    "\n",
    "\n",
    "* Create a summary data frame to hold the results\n",
    "\n",
    "\n",
    "* Optional: give the displayed data cleaner formatting\n",
    "\n",
    "\n",
    "* Display the summary data frame"
   ]
  },
  {
   "cell_type": "code",
   "execution_count": null,
   "metadata": {},
   "outputs": [],
   "source": [
    "# sort raw data into age bins\n",
    "raw_df[\"Age Ranges\"] = pd.cut(raw_df[\"Age\"], age_bins, labels=age_labels)\n",
    "\n",
    "# run groupby calculations\n",
    "age_count = raw_df.groupby([\"Age Ranges\"]).count()[\"Purchase ID\"]\n",
    "age_avgprice = raw_df.groupby([\"Age Ranges\"]).mean()[\"Price\"]\n",
    "age_totalval = raw_df.groupby([\"Age Ranges\"]).sum()[\"Price\"]\n",
    "age_avgtotal = age_totalval / age_demo[\"Total Count\"]\n",
    "\n",
    "# create df\n",
    "age_data = pd.DataFrame({\n",
    "    \"Purchase Count\": age_count,\n",
    "    \"Avg Purchase Price / Transaction\": age_avgprice,\n",
    "    \"Total Purchase Value\": age_totalval,\n",
    "    \"Avg Total Purchase / Person\": age_avgtotal\n",
    "})\n",
    "\n",
    "# format\n",
    "age_data[\"Avg Purchase Price / Transaction\"] = age_data[\"Avg Purchase Price / Transaction\"].map(\"${:.2f}\".format)\n",
    "age_data[\"Total Purchase Value\"] = age_data[\"Total Purchase Value\"].map(\"${:,.2f}\".format)\n",
    "age_data[\"Avg Total Purchase / Person\"] = age_data[\"Avg Total Purchase / Person\"].map(\"${:.2f}\".format)\n",
    "\n",
    "age_data\n"
   ]
  },
  {
   "cell_type": "markdown",
   "metadata": {},
   "source": [
    "## Top Spenders"
   ]
  },
  {
   "cell_type": "markdown",
   "metadata": {},
   "source": [
    "* Run basic calculations to obtain the results in the table below\n",
    "\n",
    "\n",
    "* Create a summary data frame to hold the results\n",
    "\n",
    "\n",
    "* Sort the total purchase value column in descending order\n",
    "\n",
    "\n",
    "* Optional: give the displayed data cleaner formatting\n",
    "\n",
    "\n",
    "* Display a preview of the summary data frame\n",
    "\n"
   ]
  },
  {
   "cell_type": "code",
   "execution_count": null,
   "metadata": {},
   "outputs": [],
   "source": [
    "# run groupby calculations\n",
    "user_purch = raw_df.groupby([\"SN\"]).count()[\"Purchase ID\"]\n",
    "user_avg = raw_df.groupby([\"SN\"]).mean()[\"Price\"]\n",
    "user_total = raw_df.groupby([\"SN\"]).sum()[\"Price\"]\n",
    "\n",
    "# create df\n",
    "user_summary = pd.DataFrame({\n",
    "    \"Purchase Count\": user_purch,\n",
    "    \"Average Purchase Price\": user_avg,\n",
    "    \"Total Purchase Value\": user_total\n",
    "})\n",
    "\n",
    "# sort by total purchase value (descending)\n",
    "top_users = user_summary.sort_values(\"Total Purchase Value\", ascending = False)\n",
    "\n",
    "# format\n",
    "top_users[\"Average Purchase Price\"] = top_users[\"Average Purchase Price\"].map(\"${:.2f}\".format)\n",
    "top_users[\"Total Purchase Value\"] = top_users[\"Total Purchase Value\"].map(\"${:.2f}\".format)\n",
    "\n",
    "# display top five spenders\n",
    "top_users.head(5)"
   ]
  },
  {
   "cell_type": "markdown",
   "metadata": {},
   "source": [
    "## Most Popular Items"
   ]
  },
  {
   "cell_type": "markdown",
   "metadata": {},
   "source": [
    "* Retrieve the Item ID, Item Name, and Item Price columns\n",
    "\n",
    "\n",
    "* Group by Item ID and Item Name. Perform calculations to obtain purchase count, average item price, and total purchase value\n",
    "\n",
    "\n",
    "* Create a summary data frame to hold the results\n",
    "\n",
    "\n",
    "* Sort the purchase count column in descending order\n",
    "\n",
    "\n",
    "* Optional: give the displayed data cleaner formatting\n",
    "\n",
    "\n",
    "* Display a preview of the summary data frame\n",
    "\n"
   ]
  },
  {
   "cell_type": "code",
   "execution_count": null,
   "metadata": {
    "scrolled": true
   },
   "outputs": [],
   "source": [
    "# retrieve item data\n",
    "item_df = raw_df.loc[:,[\"Item ID\", \"Item Name\", \"Price\"]]\n",
    "\n",
    "# run groupby calculations\n",
    "purch_count = item_df.groupby([\"Item ID\", \"Item Name\"]).count()[\"Price\"]\n",
    "item_price = item_df.groupby([\"Item ID\", \"Item Name\"]).mean()[\"Price\"]\n",
    "total_val = item_df.groupby([\"Item ID\", \"Item Name\"]).sum()[\"Price\"]\n",
    "\n",
    "# create df\n",
    "items_summary = pd.DataFrame({\n",
    "    \"Purchase Count\": purch_count,\n",
    "    \"Item Price\": item_price,\n",
    "    \"Total Purchase Value\": total_val\n",
    "})\n",
    "\n",
    "# sort by purchase count (descending)\n",
    "top_items = items_summary.sort_values(\"Purchase Count\", ascending = False)\n",
    "\n",
    "# format\n",
    "top_items[\"Item Price\"] = top_items[\"Item Price\"].map(\"${:.2f}\".format)\n",
    "top_items[\"Total Purchase Value\"] = top_items[\"Total Purchase Value\"].map(\"${:.2f}\".format)\n",
    "\n",
    "# display five most popular items\n",
    "top_items.head(5)\n",
    " "
   ]
  },
  {
   "cell_type": "markdown",
   "metadata": {},
   "source": [
    "## Most Profitable Items"
   ]
  },
  {
   "cell_type": "markdown",
   "metadata": {},
   "source": [
    "* Sort the above table by total purchase value in descending order\n",
    "\n",
    "\n",
    "* Optional: give the displayed data cleaner formatting\n",
    "\n",
    "\n",
    "* Display a preview of the data frame\n",
    "\n"
   ]
  },
  {
   "cell_type": "code",
   "execution_count": null,
   "metadata": {
    "scrolled": true
   },
   "outputs": [],
   "source": [
    "# sort item summary table by total purchase value (descending)\n",
    "top_profit_items = items_summary.sort_values(\"Total Purchase Value\", ascending = False)\n",
    "# format\n",
    "top_profit_items[\"Item Price\"] = top_profit_items[\"Item Price\"].map(\"${:.2f}\".format)\n",
    "top_profit_items[\"Total Purchase Value\"] = top_profit_items[\"Total Purchase Value\"].map(\"${:.2f}\".format)\n",
    "\n",
    "# display five most profitable items\n",
    "top_profit_items.head(5)"
   ]
  },
  {
   "cell_type": "markdown",
   "metadata": {},
   "source": [
    "## Closing Analysis\n",
    "* Of the 576 players, the majority identify as male (84.03%). Men tend to spend close to the overall average, 3.02 vs 3.05 per transaction. Although men account for the highest volume of purchases, women and non-binary/those who did not disclose gender are the higher value spenders. Based on this information, the marketing and design team would do well to try and expand upon the female and non-binary demographics. \n",
    "\n",
    "* The peak age demographic falls between the ages of 15-24, which accounts for almost 65% of all players. \n",
    "\n",
    "* With 780 total transactions spread among 576 unique individuals, the profitability of the game depends on the repeat business of players."
   ]
  },
  {
   "cell_type": "code",
   "execution_count": null,
   "metadata": {},
   "outputs": [],
   "source": []
  }
 ],
 "metadata": {
  "anaconda-cloud": {},
  "kernel_info": {
   "name": "python3"
  },
  "kernelspec": {
   "display_name": "Python 3",
   "language": "python",
   "name": "python3"
  },
  "language_info": {
   "codemirror_mode": {
    "name": "ipython",
    "version": 3
   },
   "file_extension": ".py",
   "mimetype": "text/x-python",
   "name": "python",
   "nbconvert_exporter": "python",
   "pygments_lexer": "ipython3",
   "version": "3.8.5"
  },
  "latex_envs": {
   "LaTeX_envs_menu_present": true,
   "autoclose": false,
   "autocomplete": true,
   "bibliofile": "biblio.bib",
   "cite_by": "apalike",
   "current_citInitial": 1,
   "eqLabelWithNumbers": true,
   "eqNumInitial": 1,
   "hotkeys": {
    "equation": "Ctrl-E",
    "itemize": "Ctrl-I"
   },
   "labels_anchors": false,
   "latex_user_defs": false,
   "report_style_numbering": false,
   "user_envs_cfg": false
  },
  "nteract": {
   "version": "0.2.0"
  }
 },
 "nbformat": 4,
 "nbformat_minor": 2
}
